{
 "cells": [
  {
   "cell_type": "markdown",
   "id": "ac04a028",
   "metadata": {},
   "source": [
    "# Mapping cultural remains with semantic segmentation\n",
    "All forests in Sweden, both managed forests and natural old-growth forests in national parks, contain a cultural\n",
    "heritage. The long history of forest utilization in Sweden has left a rich legacy of diverse types of ancient\n",
    "monuments and other kinds of cultural remains that document our relationship with the forest and its importance\n",
    "for Sweden’s development. However, the cultural heritage is too often damaged in forestry operations. The aim of\n",
    "the project is to do research and develop operationally useful maps that can be used\n",
    "to identify, protect and enhance the cultural remains in Swedish forests, thereby reducing the destruction of\n",
    "cultural heritage in our forest landscapes."
   ]
  },
  {
   "cell_type": "code",
   "execution_count": null,
   "id": "f12935c1",
   "metadata": {},
   "outputs": [],
   "source": [
    "python /workspace/code/tools/lidar_tile_footprint.py /workspace/lidar/pooled_laz_files/ /workspace/code/data/footprint.shp"
   ]
  }
 ],
 "metadata": {
  "kernelspec": {
   "display_name": "Python 3",
   "language": "python",
   "name": "python3"
  },
  "language_info": {
   "codemirror_mode": {
    "name": "ipython",
    "version": 3
   },
   "file_extension": ".py",
   "mimetype": "text/x-python",
   "name": "python",
   "nbconvert_exporter": "python",
   "pygments_lexer": "ipython3",
   "version": "3.8.5"
  }
 },
 "nbformat": 4,
 "nbformat_minor": 5
}

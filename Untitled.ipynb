{
 "cells": [
  {
   "cell_type": "code",
   "execution_count": 12,
   "id": "7f4f4b66",
   "metadata": {},
   "outputs": [],
   "source": [
    "import os\n",
    "from tifffile import tifffile\n",
    "import numpy as np\n",
    "# , image_path_4, image_path_5, image_path_6, image_path_7, image_path_8, image_path_9, image_path_10)\n",
    "def remove(numpixels, label_path, image_path_1):\n",
    "    for chip in os.listdir(label_path):\n",
    "        if chip.endswith('.tif'):          \n",
    "            labelwithpath = label_path + chip\n",
    "            imagewithpath_1 = image_path_1 + chip\n",
    "            #imagewithpath_2 = image_path_2 + chip\n",
    "            #imagewithpath_3 = image_path_3 + chip\n",
    "            #imagewithpath_4 = image_path_4 + chip\n",
    "            # imagewithpath_5 = image_path_5 + chip\n",
    "            # imagewithpath_6 = image_path_6 + chip\n",
    "            # imagewithpath_7 = image_path_7 + chip\n",
    "            # imagewithpath_8 = image_path_8 + chip\n",
    "            # imagewithpath_9 = image_path_9 + chip\n",
    "            # imagewithpath_10 = image_path_10 + chip\n",
    "         \n",
    "            image = tifffile.imread(labelwithpath)\n",
    "            tilesum = np.min(image)\n",
    "            if tilesum == -32768:\n",
    "                os.remove(labelwithpath)\n",
    "                os.remove(imagewithpath_1)\n",
    "                #os.remove(imagewithpath_2)\n",
    "                #os.remove(imagewithpath_3)\n",
    "                #os.remove(imagewithpath_4)\n",
    "                # os.remove(imagewithpath_5)\n",
    "                # os.remove(imagewithpath_6)\n",
    "                # os.remove(imagewithpath_7)\n",
    "                # os.remove(imagewithpath_8)\n",
    "                # os.remove(imagewithpath_9)\n",
    "                # os.remove(imagewithpath_10)\n",
    "                #print('removed ', chip, 'and all related images')\n",
    "\n",
    "remove('-32768','/workspace/data/mariana/splitted_selected_512/labels/', '/workspace/data/mariana/splitted_selected_512/HPMF/')"
   ]
  },
  {
   "cell_type": "code",
   "execution_count": 13,
   "id": "dad7a734",
   "metadata": {},
   "outputs": [],
   "source": [
    "import os\n",
    "from tifffile import tifffile\n",
    "import numpy as np\n",
    "label_path = '/workspace/data/mariana/splitted_selected_512/labels/'\n",
    "for chip in os.listdir(label_path):\n",
    "    if chip.endswith('.tif'):\n",
    "        labelwithpath = label_path + chip\n",
    "        image = tifffile.imread(labelwithpath)\n",
    "        tilesum = np.min(image)\n",
    "        if tilesum == -32768:\n",
    "            print('chip contains nodata', chip)"
   ]
  },
  {
   "cell_type": "code",
   "execution_count": null,
   "id": "a4928eb6",
   "metadata": {},
   "outputs": [],
   "source": []
  }
 ],
 "metadata": {
  "kernelspec": {
   "display_name": "Python 3",
   "language": "python",
   "name": "python3"
  },
  "language_info": {
   "codemirror_mode": {
    "name": "ipython",
    "version": 3
   },
   "file_extension": ".py",
   "mimetype": "text/x-python",
   "name": "python",
   "nbconvert_exporter": "python",
   "pygments_lexer": "ipython3",
   "version": "3.8.5"
  }
 },
 "nbformat": 4,
 "nbformat_minor": 5
}

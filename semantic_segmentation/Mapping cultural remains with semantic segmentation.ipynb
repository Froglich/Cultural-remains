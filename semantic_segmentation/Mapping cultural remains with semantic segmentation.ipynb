{
 "cells": [
  {
   "cell_type": "code",
   "execution_count": null,
   "id": "4942177c",
   "metadata": {},
   "outputs": [
    {
     "name": "stdout",
     "output_type": "stream",
     "text": [
      "copied  /workspace/lidar/original/2022/22A025/22A025_63225_5475_25.laz\n",
      "copied  /workspace/lidar/original/2022/22A025/22A025_63225_5450_25.laz\n",
      "copied  /workspace/lidar/original/2022/22A025/22A025_63225_5425_25.laz\n",
      "copied  /workspace/lidar/original/2022/22A025/22A025_63225_5400_25.laz\n",
      "copied  /workspace/lidar/original/2022/22A025/22A025_63225_5375_25.laz\n",
      "copied  /workspace/lidar/original/2022/22A025/22A025_63225_5350_25.laz\n",
      "copied  /workspace/lidar/original/2022/22A025/22A025_63225_5325_25.laz\n",
      "copied  /workspace/lidar/original/2022/22A025/22A025_63225_5300_25.laz\n",
      "copied  /workspace/lidar/original/2022/22A025/22A025_63225_5275_25.laz\n",
      "copied  /workspace/lidar/original/2022/22A025/22A025_63225_5250_25.laz\n",
      "copied  /workspace/lidar/original/2022/22A025/22A025_63200_5475_25.laz\n",
      "copied  /workspace/lidar/original/2022/22A025/22A025_63200_5450_25.laz\n",
      "copied  /workspace/lidar/original/2022/22A025/22A025_63200_5425_25.laz\n",
      "copied  /workspace/lidar/original/2022/22A025/22A025_63200_5400_25.laz\n",
      "copied  /workspace/lidar/original/2022/22A025/22A025_63200_5375_25.laz\n",
      "copied  /workspace/lidar/original/2022/22A025/22A025_63200_5350_25.laz\n",
      "copied  /workspace/lidar/original/2022/22A025/22A025_63200_5325_25.laz\n",
      "copied  /workspace/lidar/original/2022/22A025/22A025_63200_5300_25.laz\n",
      "copied  /workspace/lidar/original/2022/22A025/22A025_63200_5275_25.laz\n",
      "copied  /workspace/lidar/original/2022/22A025/22A025_63200_5250_25.laz\n",
      "copied  /workspace/lidar/original/2022/22A025/22A025_63175_5475_25.laz\n",
      "copied  /workspace/lidar/original/2022/22A025/22A025_63175_5450_25.laz\n",
      "copied  /workspace/lidar/original/2022/22A025/22A025_63175_5425_25.laz\n",
      "copied  /workspace/lidar/original/2022/22A025/22A025_63175_5400_25.laz\n",
      "copied  /workspace/lidar/original/2022/22A025/22A025_63175_5375_25.laz\n",
      "copied  /workspace/lidar/original/2022/22A025/22A025_63175_5350_25.laz\n",
      "copied  /workspace/lidar/original/2022/22A025/22A025_63175_5325_25.laz\n",
      "copied  /workspace/lidar/original/2022/22A025/22A025_63175_5300_25.laz\n",
      "copied  /workspace/lidar/original/2022/22A025/22A025_63175_5275_25.laz\n",
      "copied  /workspace/lidar/original/2022/22A025/22A025_63175_5250_25.laz\n",
      "copied  /workspace/lidar/original/2022/22A025/22A025_63150_5475_25.laz\n",
      "copied  /workspace/lidar/original/2022/22A025/22A025_63150_5450_25.laz\n",
      "copied  /workspace/lidar/original/2022/22A025/22A025_63150_5425_25.laz\n",
      "copied  /workspace/lidar/original/2022/22A025/22A025_63150_5400_25.laz\n",
      "copied  /workspace/lidar/original/2022/22A025/22A025_63150_5375_25.laz\n",
      "copied  /workspace/lidar/original/2022/22A025/22A025_63150_5350_25.laz\n",
      "copied  /workspace/lidar/original/2022/22A025/22A025_63150_5325_25.laz\n",
      "copied  /workspace/lidar/original/2022/22A025/22A025_63150_5300_25.laz\n"
     ]
    }
   ],
   "source": [
    "import os\n",
    "import glob\n",
    "import shutil\n",
    "\n",
    "original_dir = '/worksapce/lidar/original/'\n",
    "out_dir = '/workspace/lidar/pooled_laz_files/'\n",
    "list_laz_files = glob.glob('/workspace/lidar/original/**/**/*.laz', recursive = True)\n",
    "\n",
    "non_border = []\n",
    "for i in list_laz_files:\n",
    "    if 'border' not in i:\n",
    "        filename = os.path.basename(i)\n",
    "        out = out_dir + filename\n",
    "        shutil.copy(i, out)\n",
    "        print('copied ', i)"
   ]
  },
  {
   "cell_type": "code",
   "execution_count": null,
   "id": "fd83ba03",
   "metadata": {},
   "outputs": [],
   "source": []
  }
 ],
 "metadata": {
  "kernelspec": {
   "display_name": "Python 3",
   "language": "python",
   "name": "python3"
  },
  "language_info": {
   "codemirror_mode": {
    "name": "ipython",
    "version": 3
   },
   "file_extension": ".py",
   "mimetype": "text/x-python",
   "name": "python",
   "nbconvert_exporter": "python",
   "pygments_lexer": "ipython3",
   "version": "3.8.5"
  }
 },
 "nbformat": 4,
 "nbformat_minor": 5
}
